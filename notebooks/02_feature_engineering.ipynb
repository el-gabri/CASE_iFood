{
 "cells": [
  {
   "cell_type": "markdown",
   "metadata": {},
   "source": [
    "# Engenharia de Features para Detecção de Fraude\n",
    "\n",
    "Este notebook demonstra o processo de engenharia de features para o projeto de detecção de fraude em transações de cartão de crédito. Vamos transformar os dados brutos em features relevantes que possam melhorar o desempenho dos modelos de machine learning.\n",
    "\n",
    "## Conteúdo\n",
    "1. [Configuração do Ambiente](#1.-Configuração-do-Ambiente)\n",
    "2. [Carregamento dos Dados](#2.-Carregamento-dos-Dados)\n",
    "3. [Extração de Componentes Temporais](#3.-Extração-de-Componentes-Temporais)\n",
    "4. [Cálculo da Distância Cliente-Comerciante](#4.-Cálculo-da-Distância-Cliente-Comerciante)\n",
    "5. [Extração de Características dos Dígitos](#5.-Extração-de-Características-dos-Dígitos)\n",
    "6. [Cálculo de Velocidade entre Transações](#6.-Cálculo-de-Velocidade-entre-Transações)\n",
    "7. [Detecção de Desvios do Padrão de Gastos](#7.-Detecção-de-Desvios-do-Padrão-de-Gastos)\n",
    "8. [Criação da Coluna Idade](#8.-Criação-da-Coluna-Idade)\n",
    "9. [Normalização e One-Hot Encoding](#9.-Normalização-e-One-Hot-Encoding)\n",
    "10. [Balanceamento dos Dados](#10.-Balanceamento-dos-Dados)\n",
    "11. [Salvando os Dados Processados](#11.-Salvando-os-Dados-Processados)\n",
    "12. [Conclusões](#12.-Conclusões)"
   ]
  },
  {
   "cell_type": "markdown",
   "metadata": {},
   "source": [
    "## 1. Configuração do Ambiente\n",
    "\n",
    "Vamos importar as bibliotecas necessárias e configurar o ambiente para nossa análise."
   ]
  },
  {
   "cell_type": "code",
   "metadata": {
    "ExecuteTime": {
     "end_time": "2025-05-22T00:42:49.566286Z",
     "start_time": "2025-05-22T00:42:49.465712Z"
    }
   },
   "source": [
    "# Importar bibliotecas necessárias\n",
    "import pandas as pd\n",
    "import numpy as np\n",
    "import matplotlib.pyplot as plt\n",
    "import seaborn as sns\n",
    "from datetime import datetime\n",
    "import math\n",
    "import os\n",
    "import sys\n",
    "from sklearn.preprocessing import StandardScaler, OneHotEncoder\n",
    "\n",
    "# Configurações de visualização\n",
    "%matplotlib inline\n",
    "plt.style.use('seaborn-v0_8-whitegrid')\n",
    "sns.set_theme(style='whitegrid')\n",
    "plt.rcParams['figure.figsize'] = (12, 8)\n",
    "plt.rcParams['font.size'] = 12\n",
    "\n",
    "# Configurar exibição de dados no pandas\n",
    "pd.set_option('display.max_columns', None)\n",
    "pd.set_option('display.max_rows', 100)\n",
    "pd.set_option('display.float_format', '{:.2f}'.format)\n",
    "\n",
    "# Ignorar warnings\n",
    "import warnings\n",
    "warnings.filterwarnings('ignore')"
   ],
   "outputs": [],
   "execution_count": 1
  },
  {
   "cell_type": "markdown",
   "metadata": {},
   "source": [
    "## 2. Carregamento dos Dados\n",
    "\n",
    "Vamos carregar os conjuntos de dados de treino e teste para nossa análise."
   ]
  },
  {
   "cell_type": "code",
   "metadata": {
    "ExecuteTime": {
     "end_time": "2025-05-22T00:42:56.594918Z",
     "start_time": "2025-05-22T00:42:49.800518Z"
    }
   },
   "source": [
    "# Definir caminhos para os arquivos\n",
    "# Ajuste os caminhos conforme necessário para seu ambiente\n",
    "base_dir = os.path.abspath(os.path.join(os.getcwd(), '..'))\n",
    "data_dir = os.path.join(base_dir, 'data')\n",
    "raw_dir = os.path.join(data_dir, 'raw')\n",
    "processed_dir = os.path.join(data_dir, 'processed')\n",
    "\n",
    "# Garantir que o diretório processed existe\n",
    "os.makedirs(processed_dir, exist_ok=True)\n",
    "\n",
    "train_path = os.path.join(raw_dir, 'fraudTrain.csv')\n",
    "test_path = os.path.join(raw_dir, 'fraudTest.csv')\n",
    "\n",
    "# Verificar se os arquivos existem\n",
    "if not os.path.exists(train_path) or not os.path.exists(test_path):\n",
    "    print(f\"Erro: Arquivos não encontrados em {raw_dir}\")\n",
    "    print(\"Por favor, coloque os arquivos 'fraudTrain.csv' e 'fraudTest.csv' no diretório 'data/raw'\")\n",
    "else:\n",
    "    # Carregar os dados\n",
    "    print(\"Carregando dados...\")\n",
    "    train_df = pd.read_csv(train_path)\n",
    "    test_df = pd.read_csv(test_path)\n",
    "    \n",
    "    print(f\"Conjunto de treino: {train_df.shape[0]} linhas, {train_df.shape[1]} colunas\")\n",
    "    print(f\"Conjunto de teste: {test_df.shape[0]} linhas, {test_df.shape[1]} colunas\")"
   ],
   "outputs": [
    {
     "name": "stdout",
     "output_type": "stream",
     "text": [
      "Carregando dados...\n",
      "Conjunto de treino: 1296675 linhas, 23 colunas\n",
      "Conjunto de teste: 555719 linhas, 23 colunas\n"
     ]
    }
   ],
   "execution_count": 2
  },
  {
   "metadata": {
    "ExecuteTime": {
     "end_time": "2025-05-22T00:42:56.886089Z",
     "start_time": "2025-05-22T00:42:56.627380Z"
    }
   },
   "cell_type": "code",
   "source": [
    "train_df.drop('Unnamed: 0', axis=1, inplace=True)\n",
    "test_df.drop('Unnamed: 0', axis=1, inplace=True)"
   ],
   "outputs": [],
   "execution_count": 3
  },
  {
   "cell_type": "code",
   "metadata": {
    "ExecuteTime": {
     "end_time": "2025-05-22T00:43:05.227412Z",
     "start_time": "2025-05-22T00:43:04.572615Z"
    }
   },
   "source": [
    "# Verificar valores ausentes\n",
    "train_missing = train_df.isnull().sum()\n",
    "train_missing = train_missing[train_missing > 0]\n",
    "\n",
    "test_missing = test_df.isnull().sum()\n",
    "test_missing = test_missing[test_missing > 0]\n",
    "\n",
    "if len(train_missing) > 0:\n",
    "    print(\"Valores ausentes no conjunto de treino:\")\n",
    "    print(train_missing)\n",
    "else:\n",
    "    print(\"Não há valores ausentes no conjunto de treino.\")\n",
    "    \n",
    "if len(test_missing) > 0:\n",
    "    print(\"\\nValores ausentes no conjunto de teste:\")\n",
    "    print(test_missing)\n",
    "else:\n",
    "    print(\"Não há valores ausentes no conjunto de teste.\")"
   ],
   "outputs": [
    {
     "name": "stdout",
     "output_type": "stream",
     "text": [
      "Não há valores ausentes no conjunto de treino.\n",
      "Não há valores ausentes no conjunto de teste.\n"
     ]
    }
   ],
   "execution_count": 5
  },
  {
   "cell_type": "markdown",
   "metadata": {},
   "source": [
    "## 3. Extração de Componentes Temporais\n",
    "\n",
    "Vamos extrair componentes temporais úteis da data e hora da transação, como hora do dia, dia da semana e mês."
   ]
  },
  {
   "cell_type": "code",
   "metadata": {
    "ExecuteTime": {
     "end_time": "2025-05-22T00:43:08.987144Z",
     "start_time": "2025-05-22T00:43:07.341733Z"
    }
   },
   "source": [
    "# Função para extrair características temporais\n",
    "def extract_temporal_features(df):\n",
    "    # Criar cópia para não modificar o original\n",
    "    df_new = df.copy()\n",
    "\n",
    "    # Converter a coluna transaction_date para datetime\n",
    "    df_new['transaction_timestamp'] = pd.to_datetime(df_new['trans_date_trans_time'])\n",
    "\n",
    "    # Extrair componentes de data e hora\n",
    "    df_new['hour_of_day'] = df_new['transaction_timestamp'].dt.hour\n",
    "    df_new['day_of_week'] = df_new['transaction_timestamp'].dt.dayofweek\n",
    "    df_new['month'] = df_new['transaction_timestamp'].dt.month\n",
    "\n",
    "    # Converter timestamp para unix time (segundos desde 1970-01-01)\n",
    "    # Corrigido: converter primeiro para int64 e depois para int\n",
    "    df_new['unix_time'] = df_new['transaction_timestamp'].astype('int64').astype(int) // 10**9\n",
    "\n",
    "    return df_new\n",
    "\n",
    "# Aplicar a função aos conjuntos de treino e teste\n",
    "train_df = extract_temporal_features(train_df)\n",
    "test_df = extract_temporal_features(test_df)\n",
    "\n",
    "# Visualizar as novas colunas\n",
    "\n",
    "# Visualizar as novas colunas\n",
    "train_df[['trans_date_trans_time', 'transaction_timestamp', 'hour_of_day', 'day_of_week', 'month', 'unix_time']].head()"
   ],
   "outputs": [
    {
     "data": {
      "text/plain": [
       "  trans_date_trans_time transaction_timestamp  hour_of_day  day_of_week  \\\n",
       "0   2019-01-01 00:00:18   2019-01-01 00:00:18            0            1   \n",
       "1   2019-01-01 00:00:44   2019-01-01 00:00:44            0            1   \n",
       "2   2019-01-01 00:00:51   2019-01-01 00:00:51            0            1   \n",
       "3   2019-01-01 00:01:16   2019-01-01 00:01:16            0            1   \n",
       "4   2019-01-01 00:03:06   2019-01-01 00:03:06            0            1   \n",
       "\n",
       "   month  unix_time  \n",
       "0      1         -2  \n",
       "1      1         -1  \n",
       "2      1          1  \n",
       "3      1          1  \n",
       "4      1         -1  "
      ],
      "text/html": [
       "<div>\n",
       "<style scoped>\n",
       "    .dataframe tbody tr th:only-of-type {\n",
       "        vertical-align: middle;\n",
       "    }\n",
       "\n",
       "    .dataframe tbody tr th {\n",
       "        vertical-align: top;\n",
       "    }\n",
       "\n",
       "    .dataframe thead th {\n",
       "        text-align: right;\n",
       "    }\n",
       "</style>\n",
       "<table border=\"1\" class=\"dataframe\">\n",
       "  <thead>\n",
       "    <tr style=\"text-align: right;\">\n",
       "      <th></th>\n",
       "      <th>trans_date_trans_time</th>\n",
       "      <th>transaction_timestamp</th>\n",
       "      <th>hour_of_day</th>\n",
       "      <th>day_of_week</th>\n",
       "      <th>month</th>\n",
       "      <th>unix_time</th>\n",
       "    </tr>\n",
       "  </thead>\n",
       "  <tbody>\n",
       "    <tr>\n",
       "      <th>0</th>\n",
       "      <td>2019-01-01 00:00:18</td>\n",
       "      <td>2019-01-01 00:00:18</td>\n",
       "      <td>0</td>\n",
       "      <td>1</td>\n",
       "      <td>1</td>\n",
       "      <td>-2</td>\n",
       "    </tr>\n",
       "    <tr>\n",
       "      <th>1</th>\n",
       "      <td>2019-01-01 00:00:44</td>\n",
       "      <td>2019-01-01 00:00:44</td>\n",
       "      <td>0</td>\n",
       "      <td>1</td>\n",
       "      <td>1</td>\n",
       "      <td>-1</td>\n",
       "    </tr>\n",
       "    <tr>\n",
       "      <th>2</th>\n",
       "      <td>2019-01-01 00:00:51</td>\n",
       "      <td>2019-01-01 00:00:51</td>\n",
       "      <td>0</td>\n",
       "      <td>1</td>\n",
       "      <td>1</td>\n",
       "      <td>1</td>\n",
       "    </tr>\n",
       "    <tr>\n",
       "      <th>3</th>\n",
       "      <td>2019-01-01 00:01:16</td>\n",
       "      <td>2019-01-01 00:01:16</td>\n",
       "      <td>0</td>\n",
       "      <td>1</td>\n",
       "      <td>1</td>\n",
       "      <td>1</td>\n",
       "    </tr>\n",
       "    <tr>\n",
       "      <th>4</th>\n",
       "      <td>2019-01-01 00:03:06</td>\n",
       "      <td>2019-01-01 00:03:06</td>\n",
       "      <td>0</td>\n",
       "      <td>1</td>\n",
       "      <td>1</td>\n",
       "      <td>-1</td>\n",
       "    </tr>\n",
       "  </tbody>\n",
       "</table>\n",
       "</div>"
      ]
     },
     "execution_count": 6,
     "metadata": {},
     "output_type": "execute_result"
    }
   ],
   "execution_count": 6
  },
  {
   "cell_type": "markdown",
   "metadata": {},
   "source": [
    "## 4. Cálculo da Distância Cliente-Comerciante\n",
    "\n",
    "Vamos calcular a distância entre o cliente e o comerciante usando a fórmula de Haversine, que considera a curvatura da Terra."
   ]
  },
  {
   "cell_type": "code",
   "metadata": {
    "ExecuteTime": {
     "end_time": "2025-05-22T00:43:09.571693Z",
     "start_time": "2025-05-22T00:43:09.369863Z"
    }
   },
   "source": [
    "# Função para calcular a distância Haversine entre dois pontos\n",
    "def haversine_distance(lat1, lon1, lat2, lon2):\n",
    "    \"\"\"\n",
    "    Calcula a distância Haversine entre dois pontos em km\n",
    "    \"\"\"\n",
    "    # Converter graus para radianos\n",
    "    lat1, lon1, lat2, lon2 = map(np.radians, [lat1, lon1, lat2, lon2])\n",
    "    \n",
    "    # Fórmula de Haversine\n",
    "    dlon = lon2 - lon1\n",
    "    dlat = lat2 - lat1\n",
    "    a = np.sin(dlat/2)**2 + np.cos(lat1) * np.cos(lat2) * np.sin(dlon/2)**2\n",
    "    c = 2 * np.arcsin(np.sqrt(a))\n",
    "    r = 6371  # Raio da Terra em quilômetros\n",
    "    \n",
    "    return c * r\n",
    "\n",
    "# Aplicar a função aos conjuntos de treino e teste\n",
    "train_df['distance_km'] = haversine_distance(\n",
    "    train_df['lat'].values, train_df['long'].values,\n",
    "    train_df['merch_lat'].values, train_df['merch_long'].values\n",
    ")\n",
    "\n",
    "test_df['distance_km'] = haversine_distance(\n",
    "    test_df['lat'].values, test_df['long'].values,\n",
    "    test_df['merch_lat'].values, test_df['merch_long'].values\n",
    ")\n",
    "\n",
    "# Visualizar estatísticas da distância\n",
    "print(\"Estatísticas da distância cliente-comerciante (km):\")\n",
    "print(train_df['distance_km'].describe())"
   ],
   "outputs": [
    {
     "name": "stdout",
     "output_type": "stream",
     "text": [
      "Estatísticas da distância cliente-comerciante (km):\n",
      "count   1296675.00\n",
      "mean         76.11\n",
      "std          29.12\n",
      "min           0.02\n",
      "25%          55.33\n",
      "50%          78.23\n",
      "75%          98.50\n",
      "max         152.12\n",
      "Name: distance_km, dtype: float64\n"
     ]
    }
   ],
   "execution_count": 7
  },
  {
   "cell_type": "code",
   "metadata": {
    "ExecuteTime": {
     "end_time": "2025-05-22T00:43:21.518318Z",
     "start_time": "2025-05-22T00:43:20.860218Z"
    }
   },
   "source": [
    "# Visualizar a distribuição das distâncias por classe\n",
    "plt.figure(figsize=(12, 6))\n",
    "\n",
    "# Separar por classe\n",
    "distances_fraud = train_df[train_df['is_fraud'] == 1]['distance_km']\n",
    "distances_non_fraud = train_df[train_df['is_fraud'] == 0]['distance_km']\n",
    "\n",
    "# Plotar histogramas\n",
    "plt.hist([distances_non_fraud, distances_fraud], bins=50, \n",
    "         label=['Não fraude', 'Fraude'], alpha=0.7,\n",
    "         color=['blue', 'red'], density=True)\n",
    "\n",
    "plt.title('Distribuição da distância entre cliente e comerciante', fontsize=14)\n",
    "plt.xlabel('Distância (km)', fontsize=12)\n",
    "plt.ylabel('Densidade', fontsize=12)\n",
    "plt.legend()\n",
    "plt.xlim(0, 500)  # Limitar para melhor visualização\n",
    "plt.show()"
   ],
   "outputs": [
    {
     "data": {
      "text/plain": [
       "<Figure size 1200x600 with 1 Axes>"
      ],
      "image/png": "[encoded data removed]"
     },
     "metadata": {},
     "output_type": "display_data"
    }
   ],
   "execution_count": 9
  },
  {
   "cell_type": "markdown",
   "metadata": {},
   "source": [
    "## 5. Extração de Características dos Dígitos\n",
    "\n",
    "Vamos extrair o primeiro e o último dígito dos valores de transação, que podem revelar padrões interessantes."
   ]
  },
  {
   "cell_type": "code",
   "metadata": {
    "ExecuteTime": {
     "end_time": "2025-05-22T00:43:29.379276Z",
     "start_time": "2025-05-22T00:43:26.687916Z"
    }
   },
   "source": [
    "# Função para extrair características dos dígitos\n",
    "def extract_digit_features(df):\n",
    "    # Criar cópia para não modificar o original\n",
    "    df_new = df.copy()\n",
    "    \n",
    "    # Converter valor para string\n",
    "    df_new['amt_str'] = df_new['amt'].astype(str)\n",
    "    \n",
    "    # Primeiro dígito (não zero)\n",
    "    df_new['first_digit'] = df_new['amt_str'].str.replace(r'^0+', '').str[0].astype(int)\n",
    "    \n",
    "    # Último dígito\n",
    "    df_new['last_digit'] = df_new['amt_str'].str[-1].astype(int)\n",
    "    \n",
    "    return df_new\n",
    "\n",
    "# Aplicar a função aos conjuntos de treino e teste\n",
    "train_df = extract_digit_features(train_df)\n",
    "test_df = extract_digit_features(test_df)\n",
    "\n",
    "# Visualizar as novas colunas\n",
    "train_df[['amt', 'amt_str', 'first_digit', 'last_digit']].head()"
   ],
   "outputs": [
    {
     "data": {
      "text/plain": [
       "     amt amt_str  first_digit  last_digit\n",
       "0   4.97    4.97            4           7\n",
       "1 107.23  107.23            1           3\n",
       "2 220.11  220.11            2           1\n",
       "3  45.00    45.0            4           0\n",
       "4  41.96   41.96            4           6"
      ],
      "text/html": [
       "<div>\n",
       "<style scoped>\n",
       "    .dataframe tbody tr th:only-of-type {\n",
       "        vertical-align: middle;\n",
       "    }\n",
       "\n",
       "    .dataframe tbody tr th {\n",
       "        vertical-align: top;\n",
       "    }\n",
       "\n",
       "    .dataframe thead th {\n",
       "        text-align: right;\n",
       "    }\n",
       "</style>\n",
       "<table border=\"1\" class=\"dataframe\">\n",
       "  <thead>\n",
       "    <tr style=\"text-align: right;\">\n",
       "      <th></th>\n",
       "      <th>amt</th>\n",
       "      <th>amt_str</th>\n",
       "      <th>first_digit</th>\n",
       "      <th>last_digit</th>\n",
       "    </tr>\n",
       "  </thead>\n",
       "  <tbody>\n",
       "    <tr>\n",
       "      <th>0</th>\n",
       "      <td>4.97</td>\n",
       "      <td>4.97</td>\n",
       "      <td>4</td>\n",
       "      <td>7</td>\n",
       "    </tr>\n",
       "    <tr>\n",
       "      <th>1</th>\n",
       "      <td>107.23</td>\n",
       "      <td>107.23</td>\n",
       "      <td>1</td>\n",
       "      <td>3</td>\n",
       "    </tr>\n",
       "    <tr>\n",
       "      <th>2</th>\n",
       "      <td>220.11</td>\n",
       "      <td>220.11</td>\n",
       "      <td>2</td>\n",
       "      <td>1</td>\n",
       "    </tr>\n",
       "    <tr>\n",
       "      <th>3</th>\n",
       "      <td>45.00</td>\n",
       "      <td>45.0</td>\n",
       "      <td>4</td>\n",
       "      <td>0</td>\n",
       "    </tr>\n",
       "    <tr>\n",
       "      <th>4</th>\n",
       "      <td>41.96</td>\n",
       "      <td>41.96</td>\n",
       "      <td>4</td>\n",
       "      <td>6</td>\n",
       "    </tr>\n",
       "  </tbody>\n",
       "</table>\n",
       "</div>"
      ]
     },
     "execution_count": 10,
     "metadata": {},
     "output_type": "execute_result"
    }
   ],
   "execution_count": 10
  },
  {
   "cell_type": "code",
   "metadata": {
    "ExecuteTime": {
     "end_time": "2025-05-22T00:43:33.660956Z",
     "start_time": "2025-05-22T00:43:33.183171Z"
    }
   },
   "source": [
    "# Visualizar a distribuição do primeiro dígito por classe\n",
    "plt.figure(figsize=(12, 6))\n",
    "\n",
    "# Calcular percentuais\n",
    "first_digit_fraud = train_df[train_df['is_fraud'] == 1]['first_digit'].value_counts(normalize=True).sort_index() * 100\n",
    "first_digit_non_fraud = train_df[train_df['is_fraud'] == 0]['first_digit'].value_counts(normalize=True).sort_index() * 100\n",
    "\n",
    "# Lei de Benford (distribuição esperada do primeiro dígito)\n",
    "benford = pd.Series([np.log10(1 + 1/d) * 100 for d in range(1, 10)], index=range(1, 10))\n",
    "\n",
    "# Criar DataFrame para plotagem\n",
    "first_digit_df = pd.DataFrame({\n",
    "    'Fraude': first_digit_fraud,\n",
    "    'Não fraude': first_digit_non_fraud,\n",
    "    'Lei de Benford': benford\n",
    "})\n",
    "\n",
    "# Plotar\n",
    "first_digit_df.plot(kind='bar', width=0.8)\n",
    "plt.title('Distribuição do primeiro dígito dos valores de transação', fontsize=14)\n",
    "plt.xlabel('Primeiro dígito', fontsize=12)\n",
    "plt.ylabel('Percentual (%)', fontsize=12)\n",
    "plt.legend()\n",
    "plt.grid(axis='y', alpha=0.3)\n",
    "plt.show()"
   ],
   "outputs": [
    {
     "data": {
      "text/plain": [
       "<Figure size 1200x600 with 0 Axes>"
      ]
     },
     "metadata": {},
     "output_type": "display_data"
    },
    {
     "data": {
      "text/plain": [
       "<Figure size 1200x800 with 1 Axes>"
      ],
      "image/png": "[encoded data removed]"
     },
     "metadata": {},
     "output_type": "display_data"
    }
   ],
   "execution_count": 11
  },
  {
   "cell_type": "markdown",
   "metadata": {},
   "source": [
    "## 6. Cálculo de Velocidade entre Transações\n",
    "\n",
    "Vamos calcular a velocidade entre transações consecutivas do mesmo cartão, o que pode ajudar a identificar padrões impossíveis fisicamente."
   ]
  },
  {
   "cell_type": "code",
   "metadata": {
    "ExecuteTime": {
     "end_time": "2025-05-22T00:44:09.888376Z",
     "start_time": "2025-05-22T00:44:07.145406Z"
    }
   },
   "source": [
    "# Função para calcular velocidade entre transações\n",
    "def calculate_transaction_velocity(df):\n",
    "    # Criar cópia para não modificar o original\n",
    "    df_new = df.copy()\n",
    "    \n",
    "    # Ordenar transações por cartão e timestamp\n",
    "    df_new = df_new.sort_values(['cc_num', 'transaction_timestamp'])\n",
    "    \n",
    "    # Agrupar por cartão\n",
    "    grouped = df_new.groupby('cc_num')\n",
    "    \n",
    "    # Obter localização e timestamp da transação anterior\n",
    "    df_new['prev_lat'] = grouped['lat'].shift(1)\n",
    "    df_new['prev_long'] = grouped['long'].shift(1)\n",
    "    df_new['prev_unix_time'] = grouped['unix_time'].shift(1)\n",
    "    \n",
    "    # Calcular tempo entre transações em horas\n",
    "    df_new['time_diff_hours'] = (df_new['unix_time'] - df_new['prev_unix_time']) / 3600\n",
    "    \n",
    "    # Calcular distância entre transações consecutivas\n",
    "    mask = (~df_new['prev_lat'].isna()) & (~df_new['prev_long'].isna())\n",
    "    df_new.loc[mask, 'transaction_distance_km'] = haversine_distance(\n",
    "        df_new.loc[mask, 'lat'].values, \n",
    "        df_new.loc[mask, 'long'].values,\n",
    "        df_new.loc[mask, 'prev_lat'].values, \n",
    "        df_new.loc[mask, 'prev_long'].values\n",
    "    )\n",
    "    \n",
    "    # Calcular velocidade (km/h)\n",
    "    mask = (mask) & (df_new['time_diff_hours'] > 0)\n",
    "    df_new.loc[mask, 'transaction_velocity_kmh'] = (\n",
    "        df_new.loc[mask, 'transaction_distance_km'] / df_new.loc[mask, 'time_diff_hours']\n",
    "    )\n",
    "    \n",
    "    # Flag para velocidades fisicamente impossíveis (> 1000 km/h)\n",
    "    df_new['impossible_velocity'] = np.where(df_new['transaction_velocity_kmh'] > 1000, 1, 0)\n",
    "    \n",
    "    return df_new\n",
    "\n",
    "# Aplicar a função aos conjuntos de treino e teste\n",
    "train_df = calculate_transaction_velocity(train_df)\n",
    "test_df = calculate_transaction_velocity(test_df)\n",
    "\n",
    "# Visualizar as novas colunas\n",
    "cols = ['cc_num', 'transaction_timestamp', 'lat', 'long', 'prev_lat', 'prev_long', \n",
    "        'time_diff_hours', 'transaction_distance_km', 'transaction_velocity_kmh', 'impossible_velocity']\n",
    "train_df[cols].head(10)"
   ],
   "outputs": [
    {
     "data": {
      "text/plain": [
       "           cc_num transaction_timestamp   lat    long  prev_lat  prev_long  \\\n",
       "1017  60416207185   2019-01-01 12:47:15 43.00 -108.90       NaN        NaN   \n",
       "2724  60416207185   2019-01-02 08:44:57 43.00 -108.90     43.00    -108.90   \n",
       "2726  60416207185   2019-01-02 08:47:36 43.00 -108.90     43.00    -108.90   \n",
       "2882  60416207185   2019-01-02 12:38:14 43.00 -108.90     43.00    -108.90   \n",
       "2907  60416207185   2019-01-02 13:10:46 43.00 -108.90     43.00    -108.90   \n",
       "4135  60416207185   2019-01-03 13:56:35 43.00 -108.90     43.00    -108.90   \n",
       "4337  60416207185   2019-01-03 17:05:10 43.00 -108.90     43.00    -108.90   \n",
       "5467  60416207185   2019-01-04 13:59:55 43.00 -108.90     43.00    -108.90   \n",
       "6027  60416207185   2019-01-04 21:17:22 43.00 -108.90     43.00    -108.90   \n",
       "6273  60416207185   2019-01-05 00:42:24 43.00 -108.90     43.00    -108.90   \n",
       "\n",
       "      time_diff_hours  transaction_distance_km  transaction_velocity_kmh  \\\n",
       "1017              NaN                      NaN                       NaN   \n",
       "2724            -0.00                     0.00                       NaN   \n",
       "2726             0.00                     0.00                       NaN   \n",
       "2882            -0.00                     0.00                       NaN   \n",
       "2907             0.00                     0.00                      0.00   \n",
       "4135            -0.00                     0.00                       NaN   \n",
       "4337             0.00                     0.00                      0.00   \n",
       "5467            -0.00                     0.00                       NaN   \n",
       "6027             0.00                     0.00                      0.00   \n",
       "6273             0.00                     0.00                      0.00   \n",
       "\n",
       "      impossible_velocity  \n",
       "1017                    0  \n",
       "2724                    0  \n",
       "2726                    0  \n",
       "2882                    0  \n",
       "2907                    0  \n",
       "4135                    0  \n",
       "4337                    0  \n",
       "5467                    0  \n",
       "6027                    0  \n",
       "6273                    0  "
      ],
      "text/html": [
       "<div>\n",
       "<style scoped>\n",
       "    .dataframe tbody tr th:only-of-type {\n",
       "        vertical-align: middle;\n",
       "    }\n",
       "\n",
       "    .dataframe tbody tr th {\n",
       "        vertical-align: top;\n",
       "    }\n",
       "\n",
       "    .dataframe thead th {\n",
       "        text-align: right;\n",
       "    }\n",
       "</style>\n",
       "<table border=\"1\" class=\"dataframe\">\n",
       "  <thead>\n",
       "    <tr style=\"text-align: right;\">\n",
       "      <th></th>\n",
       "      <th>cc_num</th>\n",
       "      <th>transaction_timestamp</th>\n",
       "      <th>lat</th>\n",
       "      <th>long</th>\n",
       "      <th>prev_lat</th>\n",
       "      <th>prev_long</th>\n",
       "      <th>time_diff_hours</th>\n",
       "      <th>transaction_distance_km</th>\n",
       "      <th>transaction_velocity_kmh</th>\n",
       "      <th>impossible_velocity</th>\n",
       "    </tr>\n",
       "  </thead>\n",
       "  <tbody>\n",
       "    <tr>\n",
       "      <th>1017</th>\n",
       "      <td>60416207185</td>\n",
       "      <td>2019-01-01 12:47:15</td>\n",
       "      <td>43.00</td>\n",
       "      <td>-108.90</td>\n",
       "      <td>NaN</td>\n",
       "      <td>NaN</td>\n",
       "      <td>NaN</td>\n",
       "      <td>NaN</td>\n",
       "      <td>NaN</td>\n",
       "      <td>0</td>\n",
       "    </tr>\n",
       "    <tr>\n",
       "      <th>2724</th>\n",
       "      <td>60416207185</td>\n",
       "      <td>2019-01-02 08:44:57</td>\n",
       "      <td>43.00</td>\n",
       "      <td>-108.90</td>\n",
       "      <td>43.00</td>\n",
       "      <td>-108.90</td>\n",
       "      <td>-0.00</td>\n",
       "      <td>0.00</td>\n",
       "      <td>NaN</td>\n",
       "      <td>0</td>\n",
       "    </tr>\n",
       "    <tr>\n",
       "      <th>2726</th>\n",
       "      <td>60416207185</td>\n",
       "      <td>2019-01-02 08:47:36</td>\n",
       "      <td>43.00</td>\n",
       "      <td>-108.90</td>\n",
       "      <td>43.00</td>\n",
       "      <td>-108.90</td>\n",
       "      <td>0.00</td>\n",
       "      <td>0.00</td>\n",
       "      <td>NaN</td>\n",
       "      <td>0</td>\n",
       "    </tr>\n",
       "    <tr>\n",
       "      <th>2882</th>\n",
       "      <td>60416207185</td>\n",
       "      <td>2019-01-02 12:38:14</td>\n",
       "      <td>43.00</td>\n",
       "      <td>-108.90</td>\n",
       "      <td>43.00</td>\n",
       "      <td>-108.90</td>\n",
       "      <td>-0.00</td>\n",
       "      <td>0.00</td>\n",
       "      <td>NaN</td>\n",
       "      <td>0</td>\n",
       "    </tr>\n",
       "    <tr>\n",
       "      <th>2907</th>\n",
       "      <td>60416207185</td>\n",
       "      <td>2019-01-02 13:10:46</td>\n",
       "      <td>43.00</td>\n",
       "      <td>-108.90</td>\n",
       "      <td>43.00</td>\n",
       "      <td>-108.90</td>\n",
       "      <td>0.00</td>\n",
       "      <td>0.00</td>\n",
       "      <td>0.00</td>\n",
       "      <td>0</td>\n",
       "    </tr>\n",
       "    <tr>\n",
       "      <th>4135</th>\n",
       "      <td>60416207185</td>\n",
       "      <td>2019-01-03 13:56:35</td>\n",
       "      <td>43.00</td>\n",
       "      <td>-108.90</td>\n",
       "      <td>43.00</td>\n",
       "      <td>-108.90</td>\n",
       "      <td>-0.00</td>\n",
       "      <td>0.00</td>\n",
       "      <td>NaN</td>\n",
       "      <td>0</td>\n",
       "    </tr>\n",
       "    <tr>\n",
       "      <th>4337</th>\n",
       "      <td>60416207185</td>\n",
       "      <td>2019-01-03 17:05:10</td>\n",
       "      <td>43.00</td>\n",
       "      <td>-108.90</td>\n",
       "      <td>43.00</td>\n",
       "      <td>-108.90</td>\n",
       "      <td>0.00</td>\n",
       "      <td>0.00</td>\n",
       "      <td>0.00</td>\n",
       "      <td>0</td>\n",
       "    </tr>\n",
       "    <tr>\n",
       "      <th>5467</th>\n",
       "      <td>60416207185</td>\n",
       "      <td>2019-01-04 13:59:55</td>\n",
       "      <td>43.00</td>\n",
       "      <td>-108.90</td>\n",
       "      <td>43.00</td>\n",
       "      <td>-108.90</td>\n",
       "      <td>-0.00</td>\n",
       "      <td>0.00</td>\n",
       "      <td>NaN</td>\n",
       "      <td>0</td>\n",
       "    </tr>\n",
       "    <tr>\n",
       "      <th>6027</th>\n",
       "      <td>60416207185</td>\n",
       "      <td>2019-01-04 21:17:22</td>\n",
       "      <td>43.00</td>\n",
       "      <td>-108.90</td>\n",
       "      <td>43.00</td>\n",
       "      <td>-108.90</td>\n",
       "      <td>0.00</td>\n",
       "      <td>0.00</td>\n",
       "      <td>0.00</td>\n",
       "      <td>0</td>\n",
       "    </tr>\n",
       "    <tr>\n",
       "      <th>6273</th>\n",
       "      <td>60416207185</td>\n",
       "      <td>2019-01-05 00:42:24</td>\n",
       "      <td>43.00</td>\n",
       "      <td>-108.90</td>\n",
       "      <td>43.00</td>\n",
       "      <td>-108.90</td>\n",
       "      <td>0.00</td>\n",
       "      <td>0.00</td>\n",
       "      <td>0.00</td>\n",
       "      <td>0</td>\n",
       "    </tr>\n",
       "  </tbody>\n",
       "</table>\n",
       "</div>"
      ]
     },
     "execution_count": 12,
     "metadata": {},
     "output_type": "execute_result"
    }
   ],
   "execution_count": 12
  },
  {
   "cell_type": "code",
   "metadata": {
    "ExecuteTime": {
     "end_time": "2025-05-22T00:44:15.207912Z",
     "start_time": "2025-05-22T00:44:14.990740Z"
    }
   },
   "source": [
    "# Analisar a relação entre velocidade impossível e fraude\n",
    "velocity_fraud = pd.crosstab(train_df['impossible_velocity'], train_df['is_fraud'], \n",
    "                            normalize='index') * 100\n",
    "\n",
    "print(\"Relação entre velocidade impossível e fraude:\")\n",
    "print(velocity_fraud)\n",
    "\n",
    "# Plotar\n",
    "plt.figure(figsize=(10, 6))\n",
    "velocity_fraud[1].plot(kind='bar', color='red')\n",
    "plt.title('Taxa de fraude (%) por velocidade impossível', fontsize=14)\n",
    "plt.xlabel('Velocidade impossível (0 = Não, 1 = Sim)', fontsize=12)\n",
    "plt.ylabel('Taxa de fraude (%)', fontsize=12)\n",
    "plt.grid(axis='y', alpha=0.3)\n",
    "plt.show()"
   ],
   "outputs": [
    {
     "name": "stdout",
     "output_type": "stream",
     "text": [
      "Relação entre velocidade impossível e fraude:\n",
      "is_fraud                0    1\n",
      "impossible_velocity           \n",
      "0                   99.42 0.58\n"
     ]
    },
    {
     "data": {
      "text/plain": [
       "<Figure size 1000x600 with 1 Axes>"
      ],
      "image/png": "[encoded data removed]"
     },
     "metadata": {},
     "output_type": "display_data"
    }
   ],
   "execution_count": 13
  },
  {
   "cell_type": "markdown",
   "metadata": {},
   "source": [
    "## 7. Detecção de Desvios do Padrão de Gastos\n",
    "\n",
    "Vamos calcular desvios do padrão de gastos por cartão, o que pode ajudar a identificar transações anômalas."
   ]
  },
  {
   "cell_type": "code",
   "metadata": {
    "ExecuteTime": {
     "end_time": "2025-05-22T00:45:30.399228Z",
     "start_time": "2025-05-22T00:45:29.346999Z"
    }
   },
   "source": [
    "# Função para calcular desvios do padrão de gastos\n",
    "def calculate_spending_patterns(df):\n",
    "    # Criar cópia para não modificar o original\n",
    "    df_new = df.copy()\n",
    "    \n",
    "    # Calcular média e desvio padrão dos gastos por cartão\n",
    "    card_stats = df_new.groupby('cc_num')['amt'].agg(['mean', 'std']).reset_index()\n",
    "    card_stats.columns = ['cc_num', 'avg_amt', 'stddev_amt']\n",
    "    \n",
    "    # Juntar com o dataframe original\n",
    "    df_new = pd.merge(df_new, card_stats, on='cc_num', how='left')\n",
    "    \n",
    "    # Calcular z-score do valor da transação\n",
    "    df_new['amt_zscore'] = np.where(\n",
    "        (df_new['stddev_amt'].notna()) & (df_new['stddev_amt'] > 0),\n",
    "        (df_new['amt'] - df_new['avg_amt']) / df_new['stddev_amt'],\n",
    "        0\n",
    "    )\n",
    "    \n",
    "    # Flag para valores atípicos (|z-score| > 3)\n",
    "    df_new['amt_is_outlier'] = np.where(np.abs(df_new['amt_zscore']) > 3, 1, 0)\n",
    "    \n",
    "    return df_new\n",
    "\n",
    "# Aplicar a função aos conjuntos de treino e teste\n",
    "train_df = calculate_spending_patterns(train_df)\n",
    "test_df = calculate_spending_patterns(test_df)\n",
    "\n",
    "# Visualizar as novas colunas\n",
    "cols = ['cc_num', 'amt', 'avg_amt', 'stddev_amt', 'amt_zscore', 'amt_is_outlier', 'is_fraud']\n",
    "train_df[cols].head(10)"
   ],
   "outputs": [
    {
     "data": {
      "text/plain": [
       "        cc_num    amt  avg_amt  stddev_amt  amt_zscore  amt_is_outlier  \\\n",
       "0  60416207185   7.27    56.02      122.63       -0.40               0   \n",
       "1  60416207185  52.94    56.02      122.63       -0.03               0   \n",
       "2  60416207185  82.08    56.02      122.63        0.21               0   \n",
       "3  60416207185  34.79    56.02      122.63       -0.17               0   \n",
       "4  60416207185  27.18    56.02      122.63       -0.24               0   \n",
       "5  60416207185   6.87    56.02      122.63       -0.40               0   \n",
       "6  60416207185   8.43    56.02      122.63       -0.39               0   \n",
       "7  60416207185 117.11    56.02      122.63        0.50               0   \n",
       "8  60416207185  26.74    56.02      122.63       -0.24               0   \n",
       "9  60416207185 105.20    56.02      122.63        0.40               0   \n",
       "\n",
       "   is_fraud  \n",
       "0         0  \n",
       "1         0  \n",
       "2         0  \n",
       "3         0  \n",
       "4         0  \n",
       "5         0  \n",
       "6         0  \n",
       "7         0  \n",
       "8         0  \n",
       "9         0  "
      ],
      "text/html": [
       "<div>\n",
       "<style scoped>\n",
       "    .dataframe tbody tr th:only-of-type {\n",
       "        vertical-align: middle;\n",
       "    }\n",
       "\n",
       "    .dataframe tbody tr th {\n",
       "        vertical-align: top;\n",
       "    }\n",
       "\n",
       "    .dataframe thead th {\n",
       "        text-align: right;\n",
       "    }\n",
       "</style>\n",
       "<table border=\"1\" class=\"dataframe\">\n",
       "  <thead>\n",
       "    <tr style=\"text-align: right;\">\n",
       "      <th></th>\n",
       "      <th>cc_num</th>\n",
       "      <th>amt</th>\n",
       "      <th>avg_amt</th>\n",
       "      <th>stddev_amt</th>\n",
       "      <th>amt_zscore</th>\n",
       "      <th>amt_is_outlier</th>\n",
       "      <th>is_fraud</th>\n",
       "    </tr>\n",
       "  </thead>\n",
       "  <tbody>\n",
       "    <tr>\n",
       "      <th>0</th>\n",
       "      <td>60416207185</td>\n",
       "      <td>7.27</td>\n",
       "      <td>56.02</td>\n",
       "      <td>122.63</td>\n",
       "      <td>-0.40</td>\n",
       "      <td>0</td>\n",
       "      <td>0</td>\n",
       "    </tr>\n",
       "    <tr>\n",
       "      <th>1</th>\n",
       "      <td>60416207185</td>\n",
       "      <td>52.94</td>\n",
       "      <td>56.02</td>\n",
       "      <td>122.63</td>\n",
       "      <td>-0.03</td>\n",
       "      <td>0</td>\n",
       "      <td>0</td>\n",
       "    </tr>\n",
       "    <tr>\n",
       "      <th>2</th>\n",
       "      <td>60416207185</td>\n",
       "      <td>82.08</td>\n",
       "      <td>56.02</td>\n",
       "      <td>122.63</td>\n",
       "      <td>0.21</td>\n",
       "      <td>0</td>\n",
       "      <td>0</td>\n",
       "    </tr>\n",
       "    <tr>\n",
       "      <th>3</th>\n",
       "      <td>60416207185</td>\n",
       "      <td>34.79</td>\n",
       "      <td>56.02</td>\n",
       "      <td>122.63</td>\n",
       "      <td>-0.17</td>\n",
       "      <td>0</td>\n",
       "      <td>0</td>\n",
       "    </tr>\n",
       "    <tr>\n",
       "      <th>4</th>\n",
       "      <td>60416207185</td>\n",
       "      <td>27.18</td>\n",
       "      <td>56.02</td>\n",
       "      <td>122.63</td>\n",
       "      <td>-0.24</td>\n",
       "      <td>0</td>\n",
       "      <td>0</td>\n",
       "    </tr>\n",
       "    <tr>\n",
       "      <th>5</th>\n",
       "      <td>60416207185</td>\n",
       "      <td>6.87</td>\n",
       "      <td>56.02</td>\n",
       "      <td>122.63</td>\n",
       "      <td>-0.40</td>\n",
       "      <td>0</td>\n",
       "      <td>0</td>\n",
       "    </tr>\n",
       "    <tr>\n",
       "      <th>6</th>\n",
       "      <td>60416207185</td>\n",
       "      <td>8.43</td>\n",
       "      <td>56.02</td>\n",
       "      <td>122.63</td>\n",
       "      <td>-0.39</td>\n",
       "      <td>0</td>\n",
       "      <td>0</td>\n",
       "    </tr>\n",
       "    <tr>\n",
       "      <th>7</th>\n",
       "      <td>60416207185</td>\n",
       "      <td>117.11</td>\n",
       "      <td>56.02</td>\n",
       "      <td>122.63</td>\n",
       "      <td>0.50</td>\n",
       "      <td>0</td>\n",
       "      <td>0</td>\n",
       "    </tr>\n",
       "    <tr>\n",
       "      <th>8</th>\n",
       "      <td>60416207185</td>\n",
       "      <td>26.74</td>\n",
       "      <td>56.02</td>\n",
       "      <td>122.63</td>\n",
       "      <td>-0.24</td>\n",
       "      <td>0</td>\n",
       "      <td>0</td>\n",
       "    </tr>\n",
       "    <tr>\n",
       "      <th>9</th>\n",
       "      <td>60416207185</td>\n",
       "      <td>105.20</td>\n",
       "      <td>56.02</td>\n",
       "      <td>122.63</td>\n",
       "      <td>0.40</td>\n",
       "      <td>0</td>\n",
       "      <td>0</td>\n",
       "    </tr>\n",
       "  </tbody>\n",
       "</table>\n",
       "</div>"
      ]
     },
     "execution_count": 14,
     "metadata": {},
     "output_type": "execute_result"
    }
   ],
   "execution_count": 14
  },
  {
   "cell_type": "code",
   "metadata": {
    "ExecuteTime": {
     "end_time": "2025-05-22T00:45:41.529001Z",
     "start_time": "2025-05-22T00:45:41.321165Z"
    }
   },
   "source": [
    "# Analisar a relação entre valores atípicos e fraude\n",
    "outlier_fraud = pd.crosstab(train_df['amt_is_outlier'], train_df['is_fraud'], \n",
    "                           normalize='index') * 100\n",
    "\n",
    "print(\"Relação entre valores atípicos e fraude:\")\n",
    "print(outlier_fraud)\n",
    "\n",
    "# Plotar\n",
    "plt.figure(figsize=(10, 6))\n",
    "outlier_fraud[1].plot(kind='bar', color='red')\n",
    "plt.title('Taxa de fraude (%) por valor atípico', fontsize=14)\n",
    "plt.xlabel('Valor atípico (0 = Não, 1 = Sim)', fontsize=12)\n",
    "plt.ylabel('Taxa de fraude (%)', fontsize=12)\n",
    "plt.grid(axis='y', alpha=0.3)\n",
    "plt.show()"
   ],
   "outputs": [
    {
     "name": "stdout",
     "output_type": "stream",
     "text": [
      "Relação entre valores atípicos e fraude:\n",
      "is_fraud           0     1\n",
      "amt_is_outlier            \n",
      "0              99.66  0.34\n",
      "1              83.03 16.97\n"
     ]
    },
    {
     "data": {
      "text/plain": [
       "<Figure size 1000x600 with 1 Axes>"
      ],
      "image/png": "[encoded data removed]"
     },
     "metadata": {},
     "output_type": "display_data"
    }
   ],
   "execution_count": 15
  },
  {
   "cell_type": "markdown",
   "metadata": {},
   "source": [
    "## 8. Criação da Coluna Idade\n",
    "\n",
    "Vamos criar a coluna \"Idade\" a partir da data de nascimento (dob)."
   ]
  },
  {
   "cell_type": "code",
   "metadata": {
    "ExecuteTime": {
     "end_time": "2025-05-22T00:48:39.408905Z",
     "start_time": "2025-05-22T00:48:23.168635Z"
    }
   },
   "source": [
    "# Função para calcular idade a partir da data de nascimento\n",
    "def calculate_age(dob_str):\n",
    "    \"\"\"\n",
    "    Calcula a idade a partir da data de nascimento\n",
    "    \"\"\"\n",
    "    try:\n",
    "        # Converter string para datetime\n",
    "        dob = datetime.strptime(dob_str, '%Y-%m-%d')\n",
    "        \n",
    "        # Data de referência (usamos a data mais recente do conjunto de dados)\n",
    "        # Assumindo que a data mais recente é 2021-01-01\n",
    "        reference_date = datetime(2021, 1, 1)\n",
    "        \n",
    "        # Calcular idade\n",
    "        age = reference_date.year - dob.year\n",
    "        \n",
    "        # Ajustar se ainda não fez aniversário neste ano\n",
    "        if (reference_date.month, reference_date.day) < (dob.month, dob.day):\n",
    "            age -= 1\n",
    "            \n",
    "        return age\n",
    "    except:\n",
    "        return np.nan\n",
    "\n",
    "# Aplicar a função aos conjuntos de treino e teste\n",
    "train_df['idade'] = train_df['dob'].apply(calculate_age)\n",
    "test_df['idade'] = test_df['dob'].apply(calculate_age)\n",
    "\n",
    "# Visualizar as novas colunas\n",
    "train_df[['dob', 'idade']].head()"
   ],
   "outputs": [
    {
     "data": {
      "text/plain": [
       "          dob  idade\n",
       "0  1986-02-17     34\n",
       "1  1986-02-17     34\n",
       "2  1986-02-17     34\n",
       "3  1986-02-17     34\n",
       "4  1986-02-17     34"
      ],
      "text/html": [
       "<div>\n",
       "<style scoped>\n",
       "    .dataframe tbody tr th:only-of-type {\n",
       "        vertical-align: middle;\n",
       "    }\n",
       "\n",
       "    .dataframe tbody tr th {\n",
       "        vertical-align: top;\n",
       "    }\n",
       "\n",
       "    .dataframe thead th {\n",
       "        text-align: right;\n",
       "    }\n",
       "</style>\n",
       "<table border=\"1\" class=\"dataframe\">\n",
       "  <thead>\n",
       "    <tr style=\"text-align: right;\">\n",
       "      <th></th>\n",
       "      <th>dob</th>\n",
       "      <th>idade</th>\n",
       "    </tr>\n",
       "  </thead>\n",
       "  <tbody>\n",
       "    <tr>\n",
       "      <th>0</th>\n",
       "      <td>1986-02-17</td>\n",
       "      <td>34</td>\n",
       "    </tr>\n",
       "    <tr>\n",
       "      <th>1</th>\n",
       "      <td>1986-02-17</td>\n",
       "      <td>34</td>\n",
       "    </tr>\n",
       "    <tr>\n",
       "      <th>2</th>\n",
       "      <td>1986-02-17</td>\n",
       "      <td>34</td>\n",
       "    </tr>\n",
       "    <tr>\n",
       "      <th>3</th>\n",
       "      <td>1986-02-17</td>\n",
       "      <td>34</td>\n",
       "    </tr>\n",
       "    <tr>\n",
       "      <th>4</th>\n",
       "      <td>1986-02-17</td>\n",
       "      <td>34</td>\n",
       "    </tr>\n",
       "  </tbody>\n",
       "</table>\n",
       "</div>"
      ]
     },
     "execution_count": 20,
     "metadata": {},
     "output_type": "execute_result"
    }
   ],
   "execution_count": 20
  },
  {
   "cell_type": "code",
   "metadata": {
    "ExecuteTime": {
     "end_time": "2025-05-22T00:49:32.228169Z",
     "start_time": "2025-05-22T00:49:31.484660Z"
    }
   },
   "source": [
    "# Analisar a distribuição da idade\n",
    "plt.figure(figsize=(12, 6))\n",
    "\n",
    "# Separar por classe\n",
    "age_fraud = train_df[train_df['is_fraud'] == 1]['idade']\n",
    "age_non_fraud = train_df[train_df['is_fraud'] == 0]['idade']\n",
    "\n",
    "# Plotar histogramas\n",
    "plt.hist([age_non_fraud, age_fraud], bins=50, \n",
    "         label=['Não fraude', 'fraude'], alpha=0.7,\n",
    "         color=['blue', 'red'], density=True)\n",
    "\n",
    "plt.title('Distribuição da idade por classe', fontsize=14)\n",
    "plt.xlabel('Idade', fontsize=12)\n",
    "plt.ylabel('Densidade', fontsize=12)\n",
    "plt.legend()\n",
    "plt.show()\n",
    "\n",
    "# Estatísticas da idade\n",
    "print(\"Estatísticas de idade para transações não fraudulentas:\")\n",
    "print(age_non_fraud.describe())\n",
    "print(\"\\nEstatísticas de idade para transações fraudulentas:\")\n",
    "print(age_fraud.describe())"
   ],
   "outputs": [
    {
     "data": {
      "text/plain": [
       "<Figure size 1200x600 with 1 Axes>"
      ],
      "image/png": "[encoded data removed]"
     },
     "metadata": {},
     "output_type": "display_data"
    },
    {
     "name": "stdout",
     "output_type": "stream",
     "text": [
      "Estatísticas de idade para transações não fraudulentas:\n",
      "count   1289169.00\n",
      "mean         46.73\n",
      "std          17.37\n",
      "min          15.00\n",
      "25%          33.00\n",
      "50%          45.00\n",
      "75%          58.00\n",
      "max          96.00\n",
      "Name: idade, dtype: float64\n",
      "\n",
      "Estatísticas de idade para transações fraudulentas:\n",
      "count   7506.00\n",
      "mean      49.56\n",
      "std       18.84\n",
      "min       15.00\n",
      "25%       34.00\n",
      "50%       48.00\n",
      "75%       62.00\n",
      "max       95.00\n",
      "Name: idade, dtype: float64\n"
     ]
    }
   ],
   "execution_count": 22
  },
  {
   "cell_type": "markdown",
   "metadata": {},
   "source": [
    "## 9. Normalização e One-Hot Encoding\n",
    "\n",
    "Vamos aplicar normalização às colunas numéricas especificadas e one-hot encoding às colunas categóricas especificadas."
   ]
  },
  {
   "cell_type": "code",
   "metadata": {
    "ExecuteTime": {
     "end_time": "2025-05-22T00:51:02.587023Z",
     "start_time": "2025-05-22T00:51:02.576436Z"
    }
   },
   "source": [
    "# Definir colunas para transformação\n",
    "categorical_cols = ['gender', 'job', 'city']\n",
    "numeric_cols_to_normalize = [\n",
    "    # 'zip', 'lat', 'long',\n",
    "    # 'city_pop', 'unix_time',\n",
    "    # 'merch_lat', 'merch_long', 'distance_km',\n",
    "    # 'prev_lat', 'prev_long', 'prev_unix_time', 'time_diff_hours'\n",
    "]\n",
    "numeric_cols_no_normalize = [\n",
    "    'amt', 'hour_of_day', 'day_of_week', 'month', \n",
    "    'first_digit', 'last_digit', 'transaction_velocity_kmh', \n",
    "    'impossible_velocity', 'avg_amt', 'stddev_amt', \n",
    "    'amt_zscore', 'amt_is_outlier', 'idade',\n",
    "    'lat', 'long',\n",
    "    'city_pop', 'unix_time',\n",
    "    'merch_lat', 'merch_long', 'distance_km',\n",
    "    'prev_lat', 'prev_long', 'prev_unix_time', 'time_diff_hours'\n",
    "]\n",
    "\n",
    "print(f\"Colunas categóricas para one-hot encoding: {categorical_cols}\")\n",
    "print(f\"Colunas numéricas para normalização: {numeric_cols_to_normalize}\")\n",
    "print(f\"Colunas numéricas sem normalização: {numeric_cols_no_normalize}\")"
   ],
   "outputs": [
    {
     "name": "stdout",
     "output_type": "stream",
     "text": [
      "Colunas categóricas para one-hot encoding: ['gender', 'job', 'city']\n",
      "Colunas numéricas para normalização: []\n",
      "Colunas numéricas sem normalização: ['amt', 'hour_of_day', 'day_of_week', 'month', 'first_digit', 'last_digit', 'transaction_velocity_kmh', 'impossible_velocity', 'avg_amt', 'stddev_amt', 'amt_zscore', 'amt_is_outlier', 'idade', 'lat', 'long', 'city_pop', 'unix_time', 'merch_lat', 'merch_long', 'distance_km', 'prev_lat', 'prev_long', 'prev_unix_time', 'time_diff_hours']\n"
     ]
    }
   ],
   "execution_count": 24
  },
  {
   "cell_type": "code",
   "metadata": {
    "ExecuteTime": {
     "end_time": "2025-05-22T00:52:58.628416Z",
     "start_time": "2025-05-22T00:51:08.364068Z"
    }
   },
   "source": [
    "# Função para aplicar normalização e one-hot encoding\n",
    "def apply_transformations(train_df, test_df, categorical_cols, numeric_cols_to_normalize):\n",
    "    # Criar cópias para não modificar os originais\n",
    "    train_transformed = train_df.copy()\n",
    "    test_transformed = test_df.copy()\n",
    "    \n",
    "    # 1. Normalização de colunas numéricas\n",
    "    if numeric_cols_to_normalize:\n",
    "        print(f\"Normalizando colunas numéricas: {numeric_cols_to_normalize}\")\n",
    "        \n",
    "        # Inicializar e ajustar o scaler\n",
    "        scaler = StandardScaler()\n",
    "        scaler.fit(train_df[numeric_cols_to_normalize])\n",
    "        \n",
    "        # Transformar dados de treino e teste\n",
    "        train_scaled = scaler.transform(train_df[numeric_cols_to_normalize])\n",
    "        test_scaled = scaler.transform(test_df[numeric_cols_to_normalize])\n",
    "        \n",
    "        # Converter arrays para DataFrames\n",
    "        train_scaled_df = pd.DataFrame(\n",
    "            train_scaled, \n",
    "            columns=[f\"{col}_scaled\" for col in numeric_cols_to_normalize],\n",
    "            index=train_df.index\n",
    "        )\n",
    "        \n",
    "        test_scaled_df = pd.DataFrame(\n",
    "            test_scaled, \n",
    "            columns=[f\"{col}_scaled\" for col in numeric_cols_to_normalize],\n",
    "            index=test_df.index\n",
    "        )\n",
    "        \n",
    "        # Concatenar com os DataFrames originais\n",
    "        train_transformed = pd.concat([train_transformed, train_scaled_df], axis=1)\n",
    "        test_transformed = pd.concat([test_transformed, test_scaled_df], axis=1)\n",
    "    \n",
    "    # 2. One-hot encoding de colunas categóricas\n",
    "    if categorical_cols:\n",
    "        print(f\"Aplicando one-hot encoding nas colunas: {categorical_cols}\")\n",
    "        \n",
    "        # Inicializar e ajustar o encoder\n",
    "        encoder = OneHotEncoder(sparse_output=False, handle_unknown='ignore')\n",
    "        encoder.fit(train_df[categorical_cols])\n",
    "        \n",
    "        # Transformar dados de treino e teste\n",
    "        train_encoded = encoder.transform(train_df[categorical_cols])\n",
    "        test_encoded = encoder.transform(test_df[categorical_cols])\n",
    "        \n",
    "        # Obter nomes das colunas codificadas\n",
    "        encoded_feature_names = []\n",
    "        for i, col in enumerate(categorical_cols):\n",
    "            categories = encoder.categories_[i]\n",
    "            for cat in categories:\n",
    "                encoded_feature_names.append(f\"{col}_{cat}\")\n",
    "        \n",
    "        # Converter arrays para DataFrames\n",
    "        train_encoded_df = pd.DataFrame(\n",
    "            train_encoded, \n",
    "            columns=encoded_feature_names,\n",
    "            index=train_df.index\n",
    "        )\n",
    "        \n",
    "        test_encoded_df = pd.DataFrame(\n",
    "            test_encoded, \n",
    "            columns=encoded_feature_names,\n",
    "            index=test_df.index\n",
    "        )\n",
    "        \n",
    "        # Concatenar com os DataFrames transformados\n",
    "        train_transformed = pd.concat([train_transformed, train_encoded_df], axis=1)\n",
    "        test_transformed = pd.concat([test_transformed, test_encoded_df], axis=1)\n",
    "    \n",
    "    return train_transformed, test_transformed\n",
    "\n",
    "# Aplicar transformações\n",
    "train_transformed, test_transformed = apply_transformations(\n",
    "    train_df, test_df, categorical_cols, numeric_cols_to_normalize\n",
    ")"
   ],
   "outputs": [
    {
     "name": "stdout",
     "output_type": "stream",
     "text": [
      "Aplicando one-hot encoding nas colunas: ['gender', 'job', 'city']\n"
     ]
    }
   ],
   "execution_count": 25
  },
  {
   "cell_type": "code",
   "metadata": {
    "ExecuteTime": {
     "end_time": "2025-05-22T00:52:59.323343Z",
     "start_time": "2025-05-22T00:52:59.307987Z"
    }
   },
   "source": [
    "# Verificar as colunas transformadas\n",
    "# Colunas normalizadas\n",
    "scaled_cols = [col for col in train_transformed.columns if col.endswith('_scaled')]\n",
    "print(f\"Colunas normalizadas: {len(scaled_cols)}\")\n",
    "print(scaled_cols[:5], '...', scaled_cols[-5:] if len(scaled_cols) > 5 else '')\n",
    "\n",
    "# Colunas one-hot encoded\n",
    "encoded_cols = []\n",
    "for col in train_transformed.columns:\n",
    "    for cat_col in categorical_cols:\n",
    "        if col.startswith(f\"{cat_col}_\") and col != f\"{cat_col}_scaled\":\n",
    "            encoded_cols.append(col)\n",
    "            \n",
    "print(f\"\\nColunas one-hot encoded: {len(encoded_cols)}\")\n",
    "print(encoded_cols[:5], '...', encoded_cols[-5:] if len(encoded_cols) > 5 else '')"
   ],
   "outputs": [
    {
     "name": "stdout",
     "output_type": "stream",
     "text": [
      "Colunas normalizadas: 0\n",
      "[] ... \n",
      "\n",
      "Colunas one-hot encoded: 1391\n",
      "['city_pop', 'gender_F', 'gender_M', 'job_Academic librarian', 'job_Accountant, chartered'] ... ['city_Woods Cross', 'city_Woodville', 'city_Yellowstone National Park', 'city_Zaleski', 'city_Zavalla']\n"
     ]
    }
   ],
   "execution_count": 26
  },
  {
   "cell_type": "markdown",
   "metadata": {},
   "source": [
    "## 10. Balanceamento dos Dados\n",
    "\n",
    "Vamos balancear os dados de treino usando undersampling da classe majoritária."
   ]
  },
  {
   "cell_type": "code",
   "metadata": {
    "ExecuteTime": {
     "end_time": "2025-05-22T00:53:29.741104Z",
     "start_time": "2025-05-22T00:52:59.842483Z"
    }
   },
   "source": [
    "# Função para balancear os dados\n",
    "def balance_data(df, target_col='is_fraud', ratio=10):\n",
    "    \"\"\"\n",
    "    Balanceia os dados usando undersampling da classe majoritária\n",
    "    \n",
    "    Parameters:\n",
    "    -----------\n",
    "    df : DataFrame\n",
    "        DataFrame para balancear\n",
    "    target_col : str\n",
    "        Nome da coluna alvo\n",
    "    ratio : int\n",
    "        Proporção desejada entre classes (majoritária:minoritária)\n",
    "        \n",
    "    Returns:\n",
    "    --------\n",
    "    DataFrame\n",
    "        DataFrame balanceado\n",
    "    \"\"\"\n",
    "    # Separar classes\n",
    "    fraud_df = df[df[target_col] == 1]\n",
    "    non_fraud_df = df[df[target_col] == 0]\n",
    "    \n",
    "    fraud_count = len(fraud_df)\n",
    "    non_fraud_count = len(non_fraud_df)\n",
    "    \n",
    "    print(f\"Transações fraudulentas: {fraud_count}\")\n",
    "    print(f\"Transações não fraudulentas: {non_fraud_count}\")\n",
    "    print(f\"Proporção original: 1:{non_fraud_count/fraud_count:.1f}\")\n",
    "    \n",
    "    # Definir tamanho da amostra para a classe majoritária\n",
    "    sample_size = min(fraud_count * ratio, non_fraud_count)\n",
    "    \n",
    "    # Realizar undersampling da classe majoritária\n",
    "    non_fraud_sample = non_fraud_df.sample(n=sample_size, random_state=42)\n",
    "    \n",
    "    # Combinar para criar conjunto balanceado\n",
    "    balanced_df = pd.concat([fraud_df, non_fraud_sample])\n",
    "    \n",
    "    print(f\"Transações não fraudulentas após undersampling: {len(non_fraud_sample)}\")\n",
    "    print(f\"Nova proporção: 1:{len(non_fraud_sample)/fraud_count:.1f}\")\n",
    "    print(f\"Total de transações após balanceamento: {len(balanced_df)}\")\n",
    "    \n",
    "    return balanced_df\n",
    "\n",
    "# Aplicar balanceamento aos dados de treino\n",
    "train_balanced = balance_data(train_transformed)"
   ],
   "outputs": [
    {
     "name": "stdout",
     "output_type": "stream",
     "text": [
      "Transações fraudulentas: 7506\n",
      "Transações não fraudulentas: 1289169\n",
      "Proporção original: 1:171.8\n",
      "Transações não fraudulentas após undersampling: 75060\n",
      "Nova proporção: 1:10.0\n",
      "Total de transações após balanceamento: 82566\n"
     ]
    }
   ],
   "execution_count": 27
  },
  {
   "cell_type": "code",
   "metadata": {
    "ExecuteTime": {
     "end_time": "2025-05-22T00:53:30.861681Z",
     "start_time": "2025-05-22T00:53:30.382088Z"
    }
   },
   "source": [
    "    # Visualizar a distribuição das classes após o balanceamento\n",
    "plt.figure(figsize=(12, 6))\n",
    "sns.countplot(x='is_fraud', data=train_balanced)\n",
    "plt.title('Distribuição de classes após balanceamento', fontsize=14)\n",
    "plt.xlabel('Fraude (0 = Não, 1 = Sim)', fontsize=12)\n",
    "plt.ylabel('Número de transações', fontsize=12)\n",
    "plt.show()"
   ],
   "outputs": [
    {
     "data": {
      "text/plain": [
       "<Figure size 1200x600 with 1 Axes>"
      ],
      "image/png": "[encoded data removed]"
     },
     "metadata": {},
     "output_type": "display_data"
    }
   ],
   "execution_count": 28
  },
  {
   "cell_type": "markdown",
   "metadata": {},
   "source": [
    "## 11. Salvando os Dados Processados\n",
    "\n",
    "Vamos salvar os dados processados para uso posterior na modelagem."
   ]
  },
  {
   "cell_type": "code",
   "metadata": {
    "ExecuteTime": {
     "end_time": "2025-05-22T01:05:04.863203Z",
     "start_time": "2025-05-22T01:05:00.118337Z"
    }
   },
   "source": [
    "# Preparar features para modelagem\n",
    "def prepare_features_for_modeling(train_df, test_df, categorical_cols, numeric_cols_to_normalize, numeric_cols_no_normalize):\n",
    "    \"\"\"\n",
    "    Prepara as features para modelagem, incluindo seleção de colunas relevantes\n",
    "    \"\"\"\n",
    "    print(\"\\nPreparando features para modelagem...\")\n",
    "\n",
    "    \n",
    "    # Identificar colunas codificadas (one-hot encoding)\n",
    "    encoded_cols = []\n",
    "    for col in train_df.columns:\n",
    "        for cat_col in categorical_cols:\n",
    "            if col.startswith(f\"{cat_col}_\") and col != f\"{cat_col}_scaled\":\n",
    "                encoded_cols.append(col)\n",
    "    \n",
    "    # Identificar colunas normalizadas\n",
    "    scaled_cols = [f\"{col}_scaled\" for col in numeric_cols_to_normalize]\n",
    "    \n",
    "    # Combinar todas as features para modelagem\n",
    "    feature_cols = encoded_cols + scaled_cols + numeric_cols_no_normalize\n",
    "    \n",
    "    # Remover a coluna alvo se estiver nas features\n",
    "    if 'is_fraud' in feature_cols:\n",
    "        feature_cols.remove('is_fraud')\n",
    "    \n",
    "    print(f\"Total de features para modelagem: {len(feature_cols)}\")\n",
    "    \n",
    "    # Separar features e target\n",
    "    X_train = train_df[feature_cols]\n",
    "    y_train = train_df['is_fraud']\n",
    "    \n",
    "    X_test = test_df[feature_cols]\n",
    "    y_test = test_df['is_fraud']\n",
    "    \n",
    "    return X_train, y_train, X_test, y_test, feature_cols\n",
    "\n",
    "# Preparar features para modelagem\n",
    "X_train, y_train, X_test, y_test, feature_cols = prepare_features_for_modeling(\n",
    "    train_balanced, test_transformed, \n",
    "    categorical_cols, numeric_cols_to_normalize, numeric_cols_no_normalize\n",
    ")"
   ],
   "outputs": [
    {
     "name": "stdout",
     "output_type": "stream",
     "text": [
      "\n",
      "Preparando features para modelagem...\n",
      "Total de features para modelagem: 1415\n"
     ]
    },
    {
     "ename": "MemoryError",
     "evalue": "Unable to allocate 5.76 GiB for an array with shape (1390, 555719) and data type float64",
     "output_type": "error",
     "traceback": [
      "\u001B[31m---------------------------------------------------------------------------\u001B[39m",
      "\u001B[31mMemoryError\u001B[39m                               Traceback (most recent call last)",
      "\u001B[36mCell\u001B[39m\u001B[36m \u001B[39m\u001B[32mIn[36]\u001B[39m\u001B[32m, line 38\u001B[39m\n\u001B[32m     35\u001B[39m     \u001B[38;5;28;01mreturn\u001B[39;00m X_train, y_train, X_test, y_test, feature_cols\n\u001B[32m     37\u001B[39m \u001B[38;5;66;03m# Preparar features para modelagem\u001B[39;00m\n\u001B[32m---> \u001B[39m\u001B[32m38\u001B[39m X_train, y_train, X_test, y_test, feature_cols = \u001B[43mprepare_features_for_modeling\u001B[49m\u001B[43m(\u001B[49m\n\u001B[32m     39\u001B[39m \u001B[43m    \u001B[49m\u001B[43mtrain_balanced\u001B[49m\u001B[43m,\u001B[49m\u001B[43m \u001B[49m\u001B[43mtest_transformed\u001B[49m\u001B[43m,\u001B[49m\u001B[43m \u001B[49m\n\u001B[32m     40\u001B[39m \u001B[43m    \u001B[49m\u001B[43mcategorical_cols\u001B[49m\u001B[43m,\u001B[49m\u001B[43m \u001B[49m\u001B[43mnumeric_cols_to_normalize\u001B[49m\u001B[43m,\u001B[49m\u001B[43m \u001B[49m\u001B[43mnumeric_cols_no_normalize\u001B[49m\n\u001B[32m     41\u001B[39m \u001B[43m)\u001B[49m\n",
      "\u001B[36mCell\u001B[39m\u001B[36m \u001B[39m\u001B[32mIn[36]\u001B[39m\u001B[32m, line 32\u001B[39m, in \u001B[36mprepare_features_for_modeling\u001B[39m\u001B[34m(train_df, test_df, categorical_cols, numeric_cols_to_normalize, numeric_cols_no_normalize)\u001B[39m\n\u001B[32m     29\u001B[39m X_train = train_df[feature_cols]\n\u001B[32m     30\u001B[39m y_train = train_df[\u001B[33m'\u001B[39m\u001B[33mis_fraud\u001B[39m\u001B[33m'\u001B[39m]\n\u001B[32m---> \u001B[39m\u001B[32m32\u001B[39m X_test = \u001B[43mtest_df\u001B[49m\u001B[43m[\u001B[49m\u001B[43mfeature_cols\u001B[49m\u001B[43m]\u001B[49m\n\u001B[32m     33\u001B[39m y_test = test_df[\u001B[33m'\u001B[39m\u001B[33mis_fraud\u001B[39m\u001B[33m'\u001B[39m]\n\u001B[32m     35\u001B[39m \u001B[38;5;28;01mreturn\u001B[39;00m X_train, y_train, X_test, y_test, feature_cols\n",
      "\u001B[36mFile \u001B[39m\u001B[32m~\\anaconda3\\envs\\CASE_iFood\\Lib\\site-packages\\pandas\\core\\frame.py:4117\u001B[39m, in \u001B[36mDataFrame.__getitem__\u001B[39m\u001B[34m(self, key)\u001B[39m\n\u001B[32m   4114\u001B[39m \u001B[38;5;28;01mif\u001B[39;00m \u001B[38;5;28misinstance\u001B[39m(indexer, \u001B[38;5;28mslice\u001B[39m):\n\u001B[32m   4115\u001B[39m     \u001B[38;5;28;01mreturn\u001B[39;00m \u001B[38;5;28mself\u001B[39m._slice(indexer, axis=\u001B[32m1\u001B[39m)\n\u001B[32m-> \u001B[39m\u001B[32m4117\u001B[39m data = \u001B[38;5;28;43mself\u001B[39;49m\u001B[43m.\u001B[49m\u001B[43m_take_with_is_copy\u001B[49m\u001B[43m(\u001B[49m\u001B[43mindexer\u001B[49m\u001B[43m,\u001B[49m\u001B[43m \u001B[49m\u001B[43maxis\u001B[49m\u001B[43m=\u001B[49m\u001B[32;43m1\u001B[39;49m\u001B[43m)\u001B[49m\n\u001B[32m   4119\u001B[39m \u001B[38;5;28;01mif\u001B[39;00m is_single_key:\n\u001B[32m   4120\u001B[39m     \u001B[38;5;66;03m# What does looking for a single key in a non-unique index return?\u001B[39;00m\n\u001B[32m   4121\u001B[39m     \u001B[38;5;66;03m# The behavior is inconsistent. It returns a Series, except when\u001B[39;00m\n\u001B[32m   4122\u001B[39m     \u001B[38;5;66;03m# - the key itself is repeated (test on data.shape, #9519), or\u001B[39;00m\n\u001B[32m   4123\u001B[39m     \u001B[38;5;66;03m# - we have a MultiIndex on columns (test on self.columns, #21309)\u001B[39;00m\n\u001B[32m   4124\u001B[39m     \u001B[38;5;28;01mif\u001B[39;00m data.shape[\u001B[32m1\u001B[39m] == \u001B[32m1\u001B[39m \u001B[38;5;129;01mand\u001B[39;00m \u001B[38;5;129;01mnot\u001B[39;00m \u001B[38;5;28misinstance\u001B[39m(\u001B[38;5;28mself\u001B[39m.columns, MultiIndex):\n\u001B[32m   4125\u001B[39m         \u001B[38;5;66;03m# GH#26490 using data[key] can cause RecursionError\u001B[39;00m\n",
      "\u001B[36mFile \u001B[39m\u001B[32m~\\anaconda3\\envs\\CASE_iFood\\Lib\\site-packages\\pandas\\core\\generic.py:4153\u001B[39m, in \u001B[36mNDFrame._take_with_is_copy\u001B[39m\u001B[34m(self, indices, axis)\u001B[39m\n\u001B[32m   4142\u001B[39m \u001B[38;5;129m@final\u001B[39m\n\u001B[32m   4143\u001B[39m \u001B[38;5;28;01mdef\u001B[39;00m\u001B[38;5;250m \u001B[39m\u001B[34m_take_with_is_copy\u001B[39m(\u001B[38;5;28mself\u001B[39m, indices, axis: Axis = \u001B[32m0\u001B[39m) -> Self:\n\u001B[32m   4144\u001B[39m \u001B[38;5;250m    \u001B[39m\u001B[33;03m\"\"\"\u001B[39;00m\n\u001B[32m   4145\u001B[39m \u001B[33;03m    Internal version of the `take` method that sets the `_is_copy`\u001B[39;00m\n\u001B[32m   4146\u001B[39m \u001B[33;03m    attribute to keep track of the parent dataframe (using in indexing\u001B[39;00m\n\u001B[32m   (...)\u001B[39m\u001B[32m   4151\u001B[39m \u001B[33;03m    See the docstring of `take` for full explanation of the parameters.\u001B[39;00m\n\u001B[32m   4152\u001B[39m \u001B[33;03m    \"\"\"\u001B[39;00m\n\u001B[32m-> \u001B[39m\u001B[32m4153\u001B[39m     result = \u001B[38;5;28;43mself\u001B[39;49m\u001B[43m.\u001B[49m\u001B[43mtake\u001B[49m\u001B[43m(\u001B[49m\u001B[43mindices\u001B[49m\u001B[43m=\u001B[49m\u001B[43mindices\u001B[49m\u001B[43m,\u001B[49m\u001B[43m \u001B[49m\u001B[43maxis\u001B[49m\u001B[43m=\u001B[49m\u001B[43maxis\u001B[49m\u001B[43m)\u001B[49m\n\u001B[32m   4154\u001B[39m     \u001B[38;5;66;03m# Maybe set copy if we didn't actually change the index.\u001B[39;00m\n\u001B[32m   4155\u001B[39m     \u001B[38;5;28;01mif\u001B[39;00m \u001B[38;5;28mself\u001B[39m.ndim == \u001B[32m2\u001B[39m \u001B[38;5;129;01mand\u001B[39;00m \u001B[38;5;129;01mnot\u001B[39;00m result._get_axis(axis).equals(\u001B[38;5;28mself\u001B[39m._get_axis(axis)):\n",
      "\u001B[36mFile \u001B[39m\u001B[32m~\\anaconda3\\envs\\CASE_iFood\\Lib\\site-packages\\pandas\\core\\generic.py:4133\u001B[39m, in \u001B[36mNDFrame.take\u001B[39m\u001B[34m(self, indices, axis, **kwargs)\u001B[39m\n\u001B[32m   4128\u001B[39m     \u001B[38;5;66;03m# We can get here with a slice via DataFrame.__getitem__\u001B[39;00m\n\u001B[32m   4129\u001B[39m     indices = np.arange(\n\u001B[32m   4130\u001B[39m         indices.start, indices.stop, indices.step, dtype=np.intp\n\u001B[32m   4131\u001B[39m     )\n\u001B[32m-> \u001B[39m\u001B[32m4133\u001B[39m new_data = \u001B[38;5;28;43mself\u001B[39;49m\u001B[43m.\u001B[49m\u001B[43m_mgr\u001B[49m\u001B[43m.\u001B[49m\u001B[43mtake\u001B[49m\u001B[43m(\u001B[49m\n\u001B[32m   4134\u001B[39m \u001B[43m    \u001B[49m\u001B[43mindices\u001B[49m\u001B[43m,\u001B[49m\n\u001B[32m   4135\u001B[39m \u001B[43m    \u001B[49m\u001B[43maxis\u001B[49m\u001B[43m=\u001B[49m\u001B[38;5;28;43mself\u001B[39;49m\u001B[43m.\u001B[49m\u001B[43m_get_block_manager_axis\u001B[49m\u001B[43m(\u001B[49m\u001B[43maxis\u001B[49m\u001B[43m)\u001B[49m\u001B[43m,\u001B[49m\n\u001B[32m   4136\u001B[39m \u001B[43m    \u001B[49m\u001B[43mverify\u001B[49m\u001B[43m=\u001B[49m\u001B[38;5;28;43;01mTrue\u001B[39;49;00m\u001B[43m,\u001B[49m\n\u001B[32m   4137\u001B[39m \u001B[43m\u001B[49m\u001B[43m)\u001B[49m\n\u001B[32m   4138\u001B[39m \u001B[38;5;28;01mreturn\u001B[39;00m \u001B[38;5;28mself\u001B[39m._constructor_from_mgr(new_data, axes=new_data.axes).__finalize__(\n\u001B[32m   4139\u001B[39m     \u001B[38;5;28mself\u001B[39m, method=\u001B[33m\"\u001B[39m\u001B[33mtake\u001B[39m\u001B[33m\"\u001B[39m\n\u001B[32m   4140\u001B[39m )\n",
      "\u001B[36mFile \u001B[39m\u001B[32m~\\anaconda3\\envs\\CASE_iFood\\Lib\\site-packages\\pandas\\core\\internals\\managers.py:894\u001B[39m, in \u001B[36mBaseBlockManager.take\u001B[39m\u001B[34m(self, indexer, axis, verify)\u001B[39m\n\u001B[32m    891\u001B[39m indexer = maybe_convert_indices(indexer, n, verify=verify)\n\u001B[32m    893\u001B[39m new_labels = \u001B[38;5;28mself\u001B[39m.axes[axis].take(indexer)\n\u001B[32m--> \u001B[39m\u001B[32m894\u001B[39m \u001B[38;5;28;01mreturn\u001B[39;00m \u001B[38;5;28;43mself\u001B[39;49m\u001B[43m.\u001B[49m\u001B[43mreindex_indexer\u001B[49m\u001B[43m(\u001B[49m\n\u001B[32m    895\u001B[39m \u001B[43m    \u001B[49m\u001B[43mnew_axis\u001B[49m\u001B[43m=\u001B[49m\u001B[43mnew_labels\u001B[49m\u001B[43m,\u001B[49m\n\u001B[32m    896\u001B[39m \u001B[43m    \u001B[49m\u001B[43mindexer\u001B[49m\u001B[43m=\u001B[49m\u001B[43mindexer\u001B[49m\u001B[43m,\u001B[49m\n\u001B[32m    897\u001B[39m \u001B[43m    \u001B[49m\u001B[43maxis\u001B[49m\u001B[43m=\u001B[49m\u001B[43maxis\u001B[49m\u001B[43m,\u001B[49m\n\u001B[32m    898\u001B[39m \u001B[43m    \u001B[49m\u001B[43mallow_dups\u001B[49m\u001B[43m=\u001B[49m\u001B[38;5;28;43;01mTrue\u001B[39;49;00m\u001B[43m,\u001B[49m\n\u001B[32m    899\u001B[39m \u001B[43m    \u001B[49m\u001B[43mcopy\u001B[49m\u001B[43m=\u001B[49m\u001B[38;5;28;43;01mNone\u001B[39;49;00m\u001B[43m,\u001B[49m\n\u001B[32m    900\u001B[39m \u001B[43m\u001B[49m\u001B[43m)\u001B[49m\n",
      "\u001B[36mFile \u001B[39m\u001B[32m~\\anaconda3\\envs\\CASE_iFood\\Lib\\site-packages\\pandas\\core\\internals\\managers.py:680\u001B[39m, in \u001B[36mBaseBlockManager.reindex_indexer\u001B[39m\u001B[34m(self, new_axis, indexer, axis, fill_value, allow_dups, copy, only_slice, use_na_proxy)\u001B[39m\n\u001B[32m    677\u001B[39m     \u001B[38;5;28;01mraise\u001B[39;00m \u001B[38;5;167;01mIndexError\u001B[39;00m(\u001B[33m\"\u001B[39m\u001B[33mRequested axis not found in manager\u001B[39m\u001B[33m\"\u001B[39m)\n\u001B[32m    679\u001B[39m \u001B[38;5;28;01mif\u001B[39;00m axis == \u001B[32m0\u001B[39m:\n\u001B[32m--> \u001B[39m\u001B[32m680\u001B[39m     new_blocks = \u001B[38;5;28;43mself\u001B[39;49m\u001B[43m.\u001B[49m\u001B[43m_slice_take_blocks_ax0\u001B[49m\u001B[43m(\u001B[49m\n\u001B[32m    681\u001B[39m \u001B[43m        \u001B[49m\u001B[43mindexer\u001B[49m\u001B[43m,\u001B[49m\n\u001B[32m    682\u001B[39m \u001B[43m        \u001B[49m\u001B[43mfill_value\u001B[49m\u001B[43m=\u001B[49m\u001B[43mfill_value\u001B[49m\u001B[43m,\u001B[49m\n\u001B[32m    683\u001B[39m \u001B[43m        \u001B[49m\u001B[43monly_slice\u001B[49m\u001B[43m=\u001B[49m\u001B[43monly_slice\u001B[49m\u001B[43m,\u001B[49m\n\u001B[32m    684\u001B[39m \u001B[43m        \u001B[49m\u001B[43muse_na_proxy\u001B[49m\u001B[43m=\u001B[49m\u001B[43muse_na_proxy\u001B[49m\u001B[43m,\u001B[49m\n\u001B[32m    685\u001B[39m \u001B[43m    \u001B[49m\u001B[43m)\u001B[49m\n\u001B[32m    686\u001B[39m \u001B[38;5;28;01melse\u001B[39;00m:\n\u001B[32m    687\u001B[39m     new_blocks = [\n\u001B[32m    688\u001B[39m         blk.take_nd(\n\u001B[32m    689\u001B[39m             indexer,\n\u001B[32m   (...)\u001B[39m\u001B[32m    695\u001B[39m         \u001B[38;5;28;01mfor\u001B[39;00m blk \u001B[38;5;129;01min\u001B[39;00m \u001B[38;5;28mself\u001B[39m.blocks\n\u001B[32m    696\u001B[39m     ]\n",
      "\u001B[36mFile \u001B[39m\u001B[32m~\\anaconda3\\envs\\CASE_iFood\\Lib\\site-packages\\pandas\\core\\internals\\managers.py:843\u001B[39m, in \u001B[36mBaseBlockManager._slice_take_blocks_ax0\u001B[39m\u001B[34m(self, slice_or_indexer, fill_value, only_slice, use_na_proxy, ref_inplace_op)\u001B[39m\n\u001B[32m    841\u001B[39m                     blocks.append(nb)\n\u001B[32m    842\u001B[39m             \u001B[38;5;28;01melse\u001B[39;00m:\n\u001B[32m--> \u001B[39m\u001B[32m843\u001B[39m                 nb = \u001B[43mblk\u001B[49m\u001B[43m.\u001B[49m\u001B[43mtake_nd\u001B[49m\u001B[43m(\u001B[49m\u001B[43mtaker\u001B[49m\u001B[43m,\u001B[49m\u001B[43m \u001B[49m\u001B[43maxis\u001B[49m\u001B[43m=\u001B[49m\u001B[32;43m0\u001B[39;49m\u001B[43m,\u001B[49m\u001B[43m \u001B[49m\u001B[43mnew_mgr_locs\u001B[49m\u001B[43m=\u001B[49m\u001B[43mmgr_locs\u001B[49m\u001B[43m)\u001B[49m\n\u001B[32m    844\u001B[39m                 blocks.append(nb)\n\u001B[32m    846\u001B[39m \u001B[38;5;28;01mreturn\u001B[39;00m blocks\n",
      "\u001B[36mFile \u001B[39m\u001B[32m~\\anaconda3\\envs\\CASE_iFood\\Lib\\site-packages\\pandas\\core\\internals\\blocks.py:1307\u001B[39m, in \u001B[36mBlock.take_nd\u001B[39m\u001B[34m(self, indexer, axis, new_mgr_locs, fill_value)\u001B[39m\n\u001B[32m   1304\u001B[39m     allow_fill = \u001B[38;5;28;01mTrue\u001B[39;00m\n\u001B[32m   1306\u001B[39m \u001B[38;5;66;03m# Note: algos.take_nd has upcast logic similar to coerce_to_target_dtype\u001B[39;00m\n\u001B[32m-> \u001B[39m\u001B[32m1307\u001B[39m new_values = \u001B[43malgos\u001B[49m\u001B[43m.\u001B[49m\u001B[43mtake_nd\u001B[49m\u001B[43m(\u001B[49m\n\u001B[32m   1308\u001B[39m \u001B[43m    \u001B[49m\u001B[43mvalues\u001B[49m\u001B[43m,\u001B[49m\u001B[43m \u001B[49m\u001B[43mindexer\u001B[49m\u001B[43m,\u001B[49m\u001B[43m \u001B[49m\u001B[43maxis\u001B[49m\u001B[43m=\u001B[49m\u001B[43maxis\u001B[49m\u001B[43m,\u001B[49m\u001B[43m \u001B[49m\u001B[43mallow_fill\u001B[49m\u001B[43m=\u001B[49m\u001B[43mallow_fill\u001B[49m\u001B[43m,\u001B[49m\u001B[43m \u001B[49m\u001B[43mfill_value\u001B[49m\u001B[43m=\u001B[49m\u001B[43mfill_value\u001B[49m\n\u001B[32m   1309\u001B[39m \u001B[43m\u001B[49m\u001B[43m)\u001B[49m\n\u001B[32m   1311\u001B[39m \u001B[38;5;66;03m# Called from three places in managers, all of which satisfy\u001B[39;00m\n\u001B[32m   1312\u001B[39m \u001B[38;5;66;03m#  these assertions\u001B[39;00m\n\u001B[32m   1313\u001B[39m \u001B[38;5;28;01mif\u001B[39;00m \u001B[38;5;28misinstance\u001B[39m(\u001B[38;5;28mself\u001B[39m, ExtensionBlock):\n\u001B[32m   1314\u001B[39m     \u001B[38;5;66;03m# NB: in this case, the 'axis' kwarg will be ignored in the\u001B[39;00m\n\u001B[32m   1315\u001B[39m     \u001B[38;5;66;03m#  algos.take_nd call above.\u001B[39;00m\n",
      "\u001B[36mFile \u001B[39m\u001B[32m~\\anaconda3\\envs\\CASE_iFood\\Lib\\site-packages\\pandas\\core\\array_algos\\take.py:117\u001B[39m, in \u001B[36mtake_nd\u001B[39m\u001B[34m(arr, indexer, axis, fill_value, allow_fill)\u001B[39m\n\u001B[32m    114\u001B[39m     \u001B[38;5;28;01mreturn\u001B[39;00m arr.take(indexer, fill_value=fill_value, allow_fill=allow_fill)\n\u001B[32m    116\u001B[39m arr = np.asarray(arr)\n\u001B[32m--> \u001B[39m\u001B[32m117\u001B[39m \u001B[38;5;28;01mreturn\u001B[39;00m \u001B[43m_take_nd_ndarray\u001B[49m\u001B[43m(\u001B[49m\u001B[43marr\u001B[49m\u001B[43m,\u001B[49m\u001B[43m \u001B[49m\u001B[43mindexer\u001B[49m\u001B[43m,\u001B[49m\u001B[43m \u001B[49m\u001B[43maxis\u001B[49m\u001B[43m,\u001B[49m\u001B[43m \u001B[49m\u001B[43mfill_value\u001B[49m\u001B[43m,\u001B[49m\u001B[43m \u001B[49m\u001B[43mallow_fill\u001B[49m\u001B[43m)\u001B[49m\n",
      "\u001B[36mFile \u001B[39m\u001B[32m~\\anaconda3\\envs\\CASE_iFood\\Lib\\site-packages\\pandas\\core\\array_algos\\take.py:157\u001B[39m, in \u001B[36m_take_nd_ndarray\u001B[39m\u001B[34m(arr, indexer, axis, fill_value, allow_fill)\u001B[39m\n\u001B[32m    155\u001B[39m     out = np.empty(out_shape, dtype=dtype, order=\u001B[33m\"\u001B[39m\u001B[33mF\u001B[39m\u001B[33m\"\u001B[39m)\n\u001B[32m    156\u001B[39m \u001B[38;5;28;01melse\u001B[39;00m:\n\u001B[32m--> \u001B[39m\u001B[32m157\u001B[39m     out = \u001B[43mnp\u001B[49m\u001B[43m.\u001B[49m\u001B[43mempty\u001B[49m\u001B[43m(\u001B[49m\u001B[43mout_shape\u001B[49m\u001B[43m,\u001B[49m\u001B[43m \u001B[49m\u001B[43mdtype\u001B[49m\u001B[43m=\u001B[49m\u001B[43mdtype\u001B[49m\u001B[43m)\u001B[49m\n\u001B[32m    159\u001B[39m func = _get_take_nd_function(\n\u001B[32m    160\u001B[39m     arr.ndim, arr.dtype, out.dtype, axis=axis, mask_info=mask_info\n\u001B[32m    161\u001B[39m )\n\u001B[32m    162\u001B[39m func(arr, indexer, out, fill_value)\n",
      "\u001B[31mMemoryError\u001B[39m: Unable to allocate 5.76 GiB for an array with shape (1390, 555719) and data type float64"
     ]
    }
   ],
   "execution_count": 36
  },
  {
   "cell_type": "code",
   "metadata": {
    "ExecuteTime": {
     "end_time": "2025-05-22T00:18:06.347582Z",
     "start_time": "2025-05-22T00:01:54.919136Z"
    }
   },
   "source": [
    "# Salvar dados processados\n",
    "print(\"\\nSalvando dados processados...\")\n",
    "\n",
    "# Salvar dados transformados\n",
    "train_balanced.to_csv(os.path.join(processed_dir, 'train_transformed.csv'), index=False)\n",
    "test_transformed.to_csv(os.path.join(processed_dir, 'test_transformed.csv'), index=False)\n",
    "\n",
    "# Salvar features e targets para modelagem\n",
    "X_train.to_csv(os.path.join(processed_dir, 'X_train.csv'), index=False)\n",
    "y_train.to_csv(os.path.join(processed_dir, 'y_train.csv'), index=False)\n",
    "X_test.to_csv(os.path.join(processed_dir, 'X_test.csv'), index=False)\n",
    "y_test.to_csv(os.path.join(processed_dir, 'y_test.csv'), index=False)\n",
    "\n",
    "# Salvar lista de features\n",
    "with open(os.path.join(processed_dir, 'feature_cols.txt'), 'w') as f:\n",
    "    for col in feature_cols:\n",
    "        f.write(f\"{col}\\n\")\n",
    "\n",
    "print(\"Dados processados salvos em:\")\n",
    "print(f\"- {os.path.join(processed_dir, 'train_transformed.csv')}\")\n",
    "print(f\"- {os.path.join(processed_dir, 'test_transformed.csv')}\")\n",
    "print(f\"- {os.path.join(processed_dir, 'X_train.csv')}\")\n",
    "print(f\"- {os.path.join(processed_dir, 'y_train.csv')}\")\n",
    "print(f\"- {os.path.join(processed_dir, 'X_test.csv')}\")\n",
    "print(f\"- {os.path.join(processed_dir, 'y_test.csv')}\")\n",
    "print(f\"- {os.path.join(processed_dir, 'feature_cols.txt')}\")"
   ],
   "outputs": [
    {
     "name": "stdout",
     "output_type": "stream",
     "text": [
      "\n",
      "Salvando dados processados...\n",
      "Dados processados salvos em:\n",
      "- C:\\Users\\gabri\\PycharmProjects\\CASE_iFood\\data\\processed\\train_transformed.csv\n",
      "- C:\\Users\\gabri\\PycharmProjects\\CASE_iFood\\data\\processed\\test_transformed.csv\n",
      "- C:\\Users\\gabri\\PycharmProjects\\CASE_iFood\\data\\processed\\X_train.csv\n",
      "- C:\\Users\\gabri\\PycharmProjects\\CASE_iFood\\data\\processed\\y_train.csv\n",
      "- C:\\Users\\gabri\\PycharmProjects\\CASE_iFood\\data\\processed\\X_test.csv\n",
      "- C:\\Users\\gabri\\PycharmProjects\\CASE_iFood\\data\\processed\\y_test.csv\n",
      "- C:\\Users\\gabri\\PycharmProjects\\CASE_iFood\\data\\processed\\feature_cols.txt\n"
     ]
    }
   ],
   "execution_count": 41
  },
  {
   "cell_type": "markdown",
   "metadata": {},
   "source": [
    "## 12. Conclusões\n",
    "\n",
    "Neste notebook, realizamos uma extensa engenharia de features para o projeto de detecção de fraude em transações de cartão de crédito. Vamos resumir o que foi feito e os próximos passos."
   ]
  },
  {
   "cell_type": "markdown",
   "metadata": {},
   "source": [
    "### Resumo das Transformações Realizadas:\n",
    "\n",
    "1. **Extração de Componentes Temporais**:\n",
    "   - Hora do dia, dia da semana e mês da transação\n",
    "   - Conversão para unix time para cálculos de diferença temporal\n",
    "\n",
    "2. **Cálculo da Distância Cliente-Comerciante**:\n",
    "   - Utilização da fórmula de Haversine para considerar a curvatura da Terra\n",
    "   - Identificação de padrões geográficos relacionados a fraudes\n",
    "\n",
    "3. **Extração de Características dos Dígitos**:\n",
    "   - Primeiro e último dígito dos valores de transação\n",
    "   - Comparação com a Lei de Benford para identificar anomalias\n",
    "\n",
    "4. **Cálculo de Velocidade entre Transações**:\n",
    "   - Identificação de velocidades fisicamente impossíveis\n",
    "   - Flag para transações que ocorrem em locais distantes em curto intervalo de tempo\n",
    "\n",
    "5. **Detecção de Desvios do Padrão de Gastos**:\n",
    "   - Cálculo de média e desvio padrão dos gastos por cartão\n",
    "   - Identificação de valores atípicos (outliers) usando z-score\n",
    "\n",
    "6. **Criação da Coluna Idade**:\n",
    "   - Cálculo da idade a partir da data de nascimento\n",
    "   - Análise da distribuição de idade por classe\n",
    "\n",
    "7. **Normalização e One-Hot Encoding**:\n",
    "   - Normalização apenas das colunas numéricas especificadas\n",
    "   - One-hot encoding apenas das colunas categóricas especificadas\n",
    "\n",
    "8. **Balanceamento dos Dados**:\n",
    "   - Undersampling da classe majoritária para equilibrar o conjunto de treino\n",
    "   - Proporção de 1:10 entre transações fraudulentas e não fraudulentas\n",
    "\n",
    "### Próximos Passos:\n",
    "\n",
    "1. **Modelagem**:\n",
    "   - Treinar diferentes algoritmos (Regressão Logística, Random Forest, Gradient Boosted Trees, XGBoost)\n",
    "   - Otimizar hiperparâmetros para melhorar o desempenho\n",
    "\n",
    "2. **Avaliação**:\n",
    "   - Utilizar métricas apropriadas para dados desbalanceados (AUC-ROC, Precision, Recall, F1-Score)\n",
    "   - Analisar a matriz de confusão e curvas ROC/Precision-Recall\n",
    "\n",
    "3. **Interpretação**:\n",
    "   - Analisar a importância das features para entender os principais fatores de risco\n",
    "   - Extrair insights para melhorar a detecção de fraude\n",
    "\n",
    "Os dados processados estão prontos para serem utilizados na fase de modelagem, que será abordada no próximo notebook."
   ]
  }
 ],
 "metadata": {
  "kernelspec": {
   "display_name": "Python 3",
   "language": "python",
   "name": "python3"
  },
  "language_info": {
   "codemirror_mode": {
    "name": "ipython",
    "version": 3
   },
   "file_extension": ".py",
   "mimetype": "text/x-python",
   "name": "python",
   "nbconvert_exporter": "python",
   "pygments_lexer": "ipython3",
   "version": "3.8.10"
  }
 },
 "nbformat": 4,
 "nbformat_minor": 4
}
